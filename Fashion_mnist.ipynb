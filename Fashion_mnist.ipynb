{
 "cells": [
  {
   "cell_type": "code",
   "execution_count": 2,
   "id": "58c6625e",
   "metadata": {},
   "outputs": [],
   "source": [
    "import tensorflow as tf\n",
    "import keras as kr"
   ]
  },
  {
   "cell_type": "code",
   "execution_count": 3,
   "id": "09fbecb0",
   "metadata": {},
   "outputs": [
    {
     "name": "stdout",
     "output_type": "stream",
     "text": [
      "2.7.0\n",
      "2.7.0\n"
     ]
    }
   ],
   "source": [
    "print(tf.__version__)\n",
    "print(kr.__version__)"
   ]
  },
  {
   "cell_type": "code",
   "execution_count": 3,
   "id": "1dd2a221",
   "metadata": {},
   "outputs": [],
   "source": [
    "from matplotlib import pyplot as plt\n",
    "(x_train,y_train),(x_test,y_test)=tf.keras.datasets.fashion_mnist.load_data()"
   ]
  },
  {
   "cell_type": "code",
   "execution_count": 5,
   "id": "513ac645",
   "metadata": {},
   "outputs": [
    {
     "name": "stdout",
     "output_type": "stream",
     "text": [
      "(60000, 28, 28)\n"
     ]
    }
   ],
   "source": [
    "print(x_train.shape)"
   ]
  },
  {
   "cell_type": "code",
   "execution_count": 6,
   "id": "6f487dac",
   "metadata": {},
   "outputs": [
    {
     "name": "stdout",
     "output_type": "stream",
     "text": [
      "(10000, 28, 28)\n"
     ]
    }
   ],
   "source": [
    "print(x_test.shape)"
   ]
  },
  {
   "cell_type": "code",
   "execution_count": 7,
   "id": "b5157e96",
   "metadata": {},
   "outputs": [
    {
     "name": "stdout",
     "output_type": "stream",
     "text": [
      "(60000,)\n"
     ]
    }
   ],
   "source": [
    "print(y_train.shape)"
   ]
  },
  {
   "cell_type": "code",
   "execution_count": 8,
   "id": "e741ea06",
   "metadata": {},
   "outputs": [
    {
     "name": "stdout",
     "output_type": "stream",
     "text": [
      "(10000,)\n"
     ]
    }
   ],
   "source": [
    "print(y_test.shape)"
   ]
  },
  {
   "cell_type": "code",
   "execution_count": 4,
   "id": "d6f74fdc",
   "metadata": {},
   "outputs": [
    {
     "name": "stdout",
     "output_type": "stream",
     "text": [
      "[[  0   0   0   0   0   0   0   0   0   0   0   0   0   0   0   0   0   0\n",
      "    0   0   0   0   0   0   0   0   0   0]\n",
      " [  0   0   0   0   0   0   0   0   0   0   0   0   0   0   0   0   0   0\n",
      "    0   0   0   0   0   0   0   0   0   0]\n",
      " [  0   0   0   0   0   0   0   0   0   0   0   0   0   0   0   0   0   0\n",
      "    0   0   0   0   0   0   0   0   0   0]\n",
      " [  0   0   0   0   0   0   0   0   0   0   0   0   1   0   0  13  73   0\n",
      "    0   1   4   0   0   0   0   1   1   0]\n",
      " [  0   0   0   0   0   0   0   0   0   0   0   0   3   0  36 136 127  62\n",
      "   54   0   0   0   1   3   4   0   0   3]\n",
      " [  0   0   0   0   0   0   0   0   0   0   0   0   6   0 102 204 176 134\n",
      "  144 123  23   0   0   0   0  12  10   0]\n",
      " [  0   0   0   0   0   0   0   0   0   0   0   0   0   0 155 236 207 178\n",
      "  107 156 161 109  64  23  77 130  72  15]\n",
      " [  0   0   0   0   0   0   0   0   0   0   0   1   0  69 207 223 218 216\n",
      "  216 163 127 121 122 146 141  88 172  66]\n",
      " [  0   0   0   0   0   0   0   0   0   1   1   1   0 200 232 232 233 229\n",
      "  223 223 215 213 164 127 123 196 229   0]\n",
      " [  0   0   0   0   0   0   0   0   0   0   0   0   0 183 225 216 223 228\n",
      "  235 227 224 222 224 221 223 245 173   0]\n",
      " [  0   0   0   0   0   0   0   0   0   0   0   0   0 193 228 218 213 198\n",
      "  180 212 210 211 213 223 220 243 202   0]\n",
      " [  0   0   0   0   0   0   0   0   0   1   3   0  12 219 220 212 218 192\n",
      "  169 227 208 218 224 212 226 197 209  52]\n",
      " [  0   0   0   0   0   0   0   0   0   0   6   0  99 244 222 220 218 203\n",
      "  198 221 215 213 222 220 245 119 167  56]\n",
      " [  0   0   0   0   0   0   0   0   0   4   0   0  55 236 228 230 228 240\n",
      "  232 213 218 223 234 217 217 209  92   0]\n",
      " [  0   0   1   4   6   7   2   0   0   0   0   0 237 226 217 223 222 219\n",
      "  222 221 216 223 229 215 218 255  77   0]\n",
      " [  0   3   0   0   0   0   0   0   0  62 145 204 228 207 213 221 218 208\n",
      "  211 218 224 223 219 215 224 244 159   0]\n",
      " [  0   0   0   0  18  44  82 107 189 228 220 222 217 226 200 205 211 230\n",
      "  224 234 176 188 250 248 233 238 215   0]\n",
      " [  0  57 187 208 224 221 224 208 204 214 208 209 200 159 245 193 206 223\n",
      "  255 255 221 234 221 211 220 232 246   0]\n",
      " [  3 202 228 224 221 211 211 214 205 205 205 220 240  80 150 255 229 221\n",
      "  188 154 191 210 204 209 222 228 225   0]\n",
      " [ 98 233 198 210 222 229 229 234 249 220 194 215 217 241  65  73 106 117\n",
      "  168 219 221 215 217 223 223 224 229  29]\n",
      " [ 75 204 212 204 193 205 211 225 216 185 197 206 198 213 240 195 227 245\n",
      "  239 223 218 212 209 222 220 221 230  67]\n",
      " [ 48 203 183 194 213 197 185 190 194 192 202 214 219 221 220 236 225 216\n",
      "  199 206 186 181 177 172 181 205 206 115]\n",
      " [  0 122 219 193 179 171 183 196 204 210 213 207 211 210 200 196 194 191\n",
      "  195 191 198 192 176 156 167 177 210  92]\n",
      " [  0   0  74 189 212 191 175 172 175 181 185 188 189 188 193 198 204 209\n",
      "  210 210 211 188 188 194 192 216 170   0]\n",
      " [  2   0   0   0  66 200 222 237 239 242 246 243 244 221 220 193 191 179\n",
      "  182 182 181 176 166 168  99  58   0   0]\n",
      " [  0   0   0   0   0   0   0  40  61  44  72  41  35   0   0   0   0   0\n",
      "    0   0   0   0   0   0   0   0   0   0]\n",
      " [  0   0   0   0   0   0   0   0   0   0   0   0   0   0   0   0   0   0\n",
      "    0   0   0   0   0   0   0   0   0   0]\n",
      " [  0   0   0   0   0   0   0   0   0   0   0   0   0   0   0   0   0   0\n",
      "    0   0   0   0   0   0   0   0   0   0]]\n"
     ]
    }
   ],
   "source": [
    "print (x_train[0])"
   ]
  },
  {
   "cell_type": "code",
   "execution_count": 5,
   "id": "54d6b374",
   "metadata": {},
   "outputs": [
    {
     "name": "stdout",
     "output_type": "stream",
     "text": [
      "(28, 28)\n"
     ]
    }
   ],
   "source": [
    "print(x_train[0].shape)"
   ]
  },
  {
   "cell_type": "code",
   "execution_count": 10,
   "id": "7aaf8e91",
   "metadata": {},
   "outputs": [
    {
     "data": {
      "text/plain": [
       "array([9, 0, 0, ..., 3, 0, 5], dtype=uint8)"
      ]
     },
     "execution_count": 10,
     "metadata": {},
     "output_type": "execute_result"
    }
   ],
   "source": [
    "y_train"
   ]
  },
  {
   "cell_type": "code",
   "execution_count": 11,
   "id": "17118554",
   "metadata": {},
   "outputs": [
    {
     "name": "stdout",
     "output_type": "stream",
     "text": [
      "3\n"
     ]
    }
   ],
   "source": [
    "print(x_train.ndim)"
   ]
  },
  {
   "cell_type": "code",
   "execution_count": 6,
   "id": "f223b1e7",
   "metadata": {},
   "outputs": [
    {
     "name": "stdout",
     "output_type": "stream",
     "text": [
      "The label is 1\n"
     ]
    },
    {
     "data": {
      "image/png": "[encoded data removed]",
      "text/plain": [
       "<Figure size 288x288 with 1 Axes>"
      ]
     },
     "metadata": {
      "needs_background": "light"
     },
     "output_type": "display_data"
    },
    {
     "name": "stdout",
     "output_type": "stream",
     "text": [
      "The label is 2\n"
     ]
    },
    {
     "data": {
      "image/png": "[encoded data removed]",
      "text/plain": [
       "<Figure size 288x288 with 1 Axes>"
      ]
     },
     "metadata": {
      "needs_background": "light"
     },
     "output_type": "display_data"
    },
    {
     "name": "stdout",
     "output_type": "stream",
     "text": [
      "The label is 2\n"
     ]
    },
    {
     "data": {
      "image/png": "[encoded data removed]",
      "text/plain": [
       "<Figure size 288x288 with 1 Axes>"
      ]
     },
     "metadata": {
      "needs_background": "light"
     },
     "output_type": "display_data"
    }
   ],
   "source": [
    "for i in range(1000,1003):\n",
    "    plt.figure(figsize=(4,4))\n",
    "    img = x_train[i]\n",
    "    plt.imshow(img,cmap=\"gray\")\n",
    "    print(\"The label is {}\".format(y_train[i]))\n",
    "    plt.show()\n",
    "    "
   ]
  },
  {
   "cell_type": "code",
   "execution_count": 14,
   "id": "68ac633a",
   "metadata": {},
   "outputs": [],
   "source": [
    "x_train=x_train.reshape(x_train.shape[0],28,28,1)\n",
    "x_test=x_test.reshape(x_test.shape[0],28,28,1)\n",
    "input_shape=(28,28,1)"
   ]
  },
  {
   "cell_type": "code",
   "execution_count": 16,
   "id": "25e23262",
   "metadata": {},
   "outputs": [
    {
     "data": {
      "text/plain": [
       "(28, 28, 1)"
      ]
     },
     "execution_count": 16,
     "metadata": {},
     "output_type": "execute_result"
    }
   ],
   "source": [
    "x_train[0].shape"
   ]
  },
  {
   "cell_type": "code",
   "execution_count": 18,
   "id": "93a60bce",
   "metadata": {},
   "outputs": [
    {
     "name": "stdout",
     "output_type": "stream",
     "text": [
      "X_train shape is (60000, 28, 28, 1)\n",
      "Number of images in x_train :60000\n",
      "Number of images in x_test  :10000\n"
     ]
    }
   ],
   "source": [
    "x_train.astype('float32')\n",
    "x_test.astype('float32')\n",
    "x_train=x_train/255\n",
    "x_test=x_test/255\n",
    "print(\"X_train shape is {}\".format(x_train.shape))\n",
    "print(\"Number of images in x_train :{}\".format(x_train.shape[0])) \n",
    "print(\"Number of images in x_test  :{}\".format(x_test.shape[0]))"
   ]
  },
  {
   "cell_type": "code",
   "execution_count": 20,
   "id": "f48a8598",
   "metadata": {},
   "outputs": [
    {
     "name": "stdout",
     "output_type": "stream",
     "text": [
      "[[[0.00000000e+00]\n",
      "  [0.00000000e+00]\n",
      "  [0.00000000e+00]\n",
      "  [0.00000000e+00]\n",
      "  [0.00000000e+00]\n",
      "  [0.00000000e+00]\n",
      "  [0.00000000e+00]\n",
      "  [0.00000000e+00]\n",
      "  [0.00000000e+00]\n",
      "  [0.00000000e+00]\n",
      "  [0.00000000e+00]\n",
      "  [0.00000000e+00]\n",
      "  [0.00000000e+00]\n",
      "  [0.00000000e+00]\n",
      "  [0.00000000e+00]\n",
      "  [0.00000000e+00]\n",
      "  [0.00000000e+00]\n",
      "  [0.00000000e+00]\n",
      "  [0.00000000e+00]\n",
      "  [0.00000000e+00]\n",
      "  [0.00000000e+00]\n",
      "  [0.00000000e+00]\n",
      "  [0.00000000e+00]\n",
      "  [0.00000000e+00]\n",
      "  [0.00000000e+00]\n",
      "  [0.00000000e+00]\n",
      "  [0.00000000e+00]\n",
      "  [0.00000000e+00]]\n",
      "\n",
      " [[0.00000000e+00]\n",
      "  [0.00000000e+00]\n",
      "  [0.00000000e+00]\n",
      "  [0.00000000e+00]\n",
      "  [0.00000000e+00]\n",
      "  [0.00000000e+00]\n",
      "  [0.00000000e+00]\n",
      "  [0.00000000e+00]\n",
      "  [0.00000000e+00]\n",
      "  [0.00000000e+00]\n",
      "  [0.00000000e+00]\n",
      "  [0.00000000e+00]\n",
      "  [0.00000000e+00]\n",
      "  [0.00000000e+00]\n",
      "  [0.00000000e+00]\n",
      "  [0.00000000e+00]\n",
      "  [0.00000000e+00]\n",
      "  [0.00000000e+00]\n",
      "  [0.00000000e+00]\n",
      "  [0.00000000e+00]\n",
      "  [0.00000000e+00]\n",
      "  [0.00000000e+00]\n",
      "  [0.00000000e+00]\n",
      "  [0.00000000e+00]\n",
      "  [0.00000000e+00]\n",
      "  [0.00000000e+00]\n",
      "  [0.00000000e+00]\n",
      "  [0.00000000e+00]]\n",
      "\n",
      " [[0.00000000e+00]\n",
      "  [0.00000000e+00]\n",
      "  [0.00000000e+00]\n",
      "  [0.00000000e+00]\n",
      "  [0.00000000e+00]\n",
      "  [0.00000000e+00]\n",
      "  [0.00000000e+00]\n",
      "  [0.00000000e+00]\n",
      "  [0.00000000e+00]\n",
      "  [0.00000000e+00]\n",
      "  [0.00000000e+00]\n",
      "  [0.00000000e+00]\n",
      "  [0.00000000e+00]\n",
      "  [0.00000000e+00]\n",
      "  [0.00000000e+00]\n",
      "  [0.00000000e+00]\n",
      "  [0.00000000e+00]\n",
      "  [0.00000000e+00]\n",
      "  [0.00000000e+00]\n",
      "  [0.00000000e+00]\n",
      "  [0.00000000e+00]\n",
      "  [0.00000000e+00]\n",
      "  [0.00000000e+00]\n",
      "  [0.00000000e+00]\n",
      "  [0.00000000e+00]\n",
      "  [0.00000000e+00]\n",
      "  [0.00000000e+00]\n",
      "  [0.00000000e+00]]\n",
      "\n",
      " [[0.00000000e+00]\n",
      "  [0.00000000e+00]\n",
      "  [0.00000000e+00]\n",
      "  [0.00000000e+00]\n",
      "  [0.00000000e+00]\n",
      "  [0.00000000e+00]\n",
      "  [0.00000000e+00]\n",
      "  [0.00000000e+00]\n",
      "  [0.00000000e+00]\n",
      "  [0.00000000e+00]\n",
      "  [0.00000000e+00]\n",
      "  [0.00000000e+00]\n",
      "  [1.53787005e-05]\n",
      "  [0.00000000e+00]\n",
      "  [0.00000000e+00]\n",
      "  [1.99923106e-04]\n",
      "  [1.12264514e-03]\n",
      "  [0.00000000e+00]\n",
      "  [0.00000000e+00]\n",
      "  [1.53787005e-05]\n",
      "  [6.15148020e-05]\n",
      "  [0.00000000e+00]\n",
      "  [0.00000000e+00]\n",
      "  [0.00000000e+00]\n",
      "  [0.00000000e+00]\n",
      "  [1.53787005e-05]\n",
      "  [1.53787005e-05]\n",
      "  [0.00000000e+00]]\n",
      "\n",
      " [[0.00000000e+00]\n",
      "  [0.00000000e+00]\n",
      "  [0.00000000e+00]\n",
      "  [0.00000000e+00]\n",
      "  [0.00000000e+00]\n",
      "  [0.00000000e+00]\n",
      "  [0.00000000e+00]\n",
      "  [0.00000000e+00]\n",
      "  [0.00000000e+00]\n",
      "  [0.00000000e+00]\n",
      "  [0.00000000e+00]\n",
      "  [0.00000000e+00]\n",
      "  [4.61361015e-05]\n",
      "  [0.00000000e+00]\n",
      "  [5.53633218e-04]\n",
      "  [2.09150327e-03]\n",
      "  [1.95309496e-03]\n",
      "  [9.53479431e-04]\n",
      "  [8.30449827e-04]\n",
      "  [0.00000000e+00]\n",
      "  [0.00000000e+00]\n",
      "  [0.00000000e+00]\n",
      "  [1.53787005e-05]\n",
      "  [4.61361015e-05]\n",
      "  [6.15148020e-05]\n",
      "  [0.00000000e+00]\n",
      "  [0.00000000e+00]\n",
      "  [4.61361015e-05]]\n",
      "\n",
      " [[0.00000000e+00]\n",
      "  [0.00000000e+00]\n",
      "  [0.00000000e+00]\n",
      "  [0.00000000e+00]\n",
      "  [0.00000000e+00]\n",
      "  [0.00000000e+00]\n",
      "  [0.00000000e+00]\n",
      "  [0.00000000e+00]\n",
      "  [0.00000000e+00]\n",
      "  [0.00000000e+00]\n",
      "  [0.00000000e+00]\n",
      "  [0.00000000e+00]\n",
      "  [9.22722030e-05]\n",
      "  [0.00000000e+00]\n",
      "  [1.56862745e-03]\n",
      "  [3.13725490e-03]\n",
      "  [2.70665129e-03]\n",
      "  [2.06074587e-03]\n",
      "  [2.21453287e-03]\n",
      "  [1.89158016e-03]\n",
      "  [3.53710111e-04]\n",
      "  [0.00000000e+00]\n",
      "  [0.00000000e+00]\n",
      "  [0.00000000e+00]\n",
      "  [0.00000000e+00]\n",
      "  [1.84544406e-04]\n",
      "  [1.53787005e-04]\n",
      "  [0.00000000e+00]]\n",
      "\n",
      " [[0.00000000e+00]\n",
      "  [0.00000000e+00]\n",
      "  [0.00000000e+00]\n",
      "  [0.00000000e+00]\n",
      "  [0.00000000e+00]\n",
      "  [0.00000000e+00]\n",
      "  [0.00000000e+00]\n",
      "  [0.00000000e+00]\n",
      "  [0.00000000e+00]\n",
      "  [0.00000000e+00]\n",
      "  [0.00000000e+00]\n",
      "  [0.00000000e+00]\n",
      "  [0.00000000e+00]\n",
      "  [0.00000000e+00]\n",
      "  [2.38369858e-03]\n",
      "  [3.62937332e-03]\n",
      "  [3.18339100e-03]\n",
      "  [2.73740869e-03]\n",
      "  [1.64552095e-03]\n",
      "  [2.39907728e-03]\n",
      "  [2.47597078e-03]\n",
      "  [1.67627835e-03]\n",
      "  [9.84236832e-04]\n",
      "  [3.53710111e-04]\n",
      "  [1.18415994e-03]\n",
      "  [1.99923106e-03]\n",
      "  [1.10726644e-03]\n",
      "  [2.30680507e-04]]\n",
      "\n",
      " [[0.00000000e+00]\n",
      "  [0.00000000e+00]\n",
      "  [0.00000000e+00]\n",
      "  [0.00000000e+00]\n",
      "  [0.00000000e+00]\n",
      "  [0.00000000e+00]\n",
      "  [0.00000000e+00]\n",
      "  [0.00000000e+00]\n",
      "  [0.00000000e+00]\n",
      "  [0.00000000e+00]\n",
      "  [0.00000000e+00]\n",
      "  [1.53787005e-05]\n",
      "  [0.00000000e+00]\n",
      "  [1.06113033e-03]\n",
      "  [3.18339100e-03]\n",
      "  [3.42945021e-03]\n",
      "  [3.35255671e-03]\n",
      "  [3.32179931e-03]\n",
      "  [3.32179931e-03]\n",
      "  [2.50672818e-03]\n",
      "  [1.95309496e-03]\n",
      "  [1.86082276e-03]\n",
      "  [1.87620146e-03]\n",
      "  [2.24529027e-03]\n",
      "  [2.16839677e-03]\n",
      "  [1.35332564e-03]\n",
      "  [2.64513649e-03]\n",
      "  [1.01499423e-03]]\n",
      "\n",
      " [[0.00000000e+00]\n",
      "  [0.00000000e+00]\n",
      "  [0.00000000e+00]\n",
      "  [0.00000000e+00]\n",
      "  [0.00000000e+00]\n",
      "  [0.00000000e+00]\n",
      "  [0.00000000e+00]\n",
      "  [0.00000000e+00]\n",
      "  [0.00000000e+00]\n",
      "  [1.53787005e-05]\n",
      "  [1.53787005e-05]\n",
      "  [1.53787005e-05]\n",
      "  [0.00000000e+00]\n",
      "  [3.07574010e-03]\n",
      "  [3.56785852e-03]\n",
      "  [3.56785852e-03]\n",
      "  [3.58323722e-03]\n",
      "  [3.52172241e-03]\n",
      "  [3.42945021e-03]\n",
      "  [3.42945021e-03]\n",
      "  [3.30642061e-03]\n",
      "  [3.27566321e-03]\n",
      "  [2.52210688e-03]\n",
      "  [1.95309496e-03]\n",
      "  [1.89158016e-03]\n",
      "  [3.01422530e-03]\n",
      "  [3.52172241e-03]\n",
      "  [0.00000000e+00]]\n",
      "\n",
      " [[0.00000000e+00]\n",
      "  [0.00000000e+00]\n",
      "  [0.00000000e+00]\n",
      "  [0.00000000e+00]\n",
      "  [0.00000000e+00]\n",
      "  [0.00000000e+00]\n",
      "  [0.00000000e+00]\n",
      "  [0.00000000e+00]\n",
      "  [0.00000000e+00]\n",
      "  [0.00000000e+00]\n",
      "  [0.00000000e+00]\n",
      "  [0.00000000e+00]\n",
      "  [0.00000000e+00]\n",
      "  [2.81430219e-03]\n",
      "  [3.46020761e-03]\n",
      "  [3.32179931e-03]\n",
      "  [3.42945021e-03]\n",
      "  [3.50634371e-03]\n",
      "  [3.61399462e-03]\n",
      "  [3.49096501e-03]\n",
      "  [3.44482891e-03]\n",
      "  [3.41407151e-03]\n",
      "  [3.44482891e-03]\n",
      "  [3.39869281e-03]\n",
      "  [3.42945021e-03]\n",
      "  [3.76778162e-03]\n",
      "  [2.66051519e-03]\n",
      "  [0.00000000e+00]]\n",
      "\n",
      " [[0.00000000e+00]\n",
      "  [0.00000000e+00]\n",
      "  [0.00000000e+00]\n",
      "  [0.00000000e+00]\n",
      "  [0.00000000e+00]\n",
      "  [0.00000000e+00]\n",
      "  [0.00000000e+00]\n",
      "  [0.00000000e+00]\n",
      "  [0.00000000e+00]\n",
      "  [0.00000000e+00]\n",
      "  [0.00000000e+00]\n",
      "  [0.00000000e+00]\n",
      "  [0.00000000e+00]\n",
      "  [2.96808920e-03]\n",
      "  [3.50634371e-03]\n",
      "  [3.35255671e-03]\n",
      "  [3.27566321e-03]\n",
      "  [3.04498270e-03]\n",
      "  [2.76816609e-03]\n",
      "  [3.26028451e-03]\n",
      "  [3.22952710e-03]\n",
      "  [3.24490581e-03]\n",
      "  [3.27566321e-03]\n",
      "  [3.42945021e-03]\n",
      "  [3.38331411e-03]\n",
      "  [3.73702422e-03]\n",
      "  [3.10649750e-03]\n",
      "  [0.00000000e+00]]\n",
      "\n",
      " [[0.00000000e+00]\n",
      "  [0.00000000e+00]\n",
      "  [0.00000000e+00]\n",
      "  [0.00000000e+00]\n",
      "  [0.00000000e+00]\n",
      "  [0.00000000e+00]\n",
      "  [0.00000000e+00]\n",
      "  [0.00000000e+00]\n",
      "  [0.00000000e+00]\n",
      "  [1.53787005e-05]\n",
      "  [4.61361015e-05]\n",
      "  [0.00000000e+00]\n",
      "  [1.84544406e-04]\n",
      "  [3.36793541e-03]\n",
      "  [3.38331411e-03]\n",
      "  [3.26028451e-03]\n",
      "  [3.35255671e-03]\n",
      "  [2.95271050e-03]\n",
      "  [2.59900038e-03]\n",
      "  [3.49096501e-03]\n",
      "  [3.19876970e-03]\n",
      "  [3.35255671e-03]\n",
      "  [3.44482891e-03]\n",
      "  [3.26028451e-03]\n",
      "  [3.47558631e-03]\n",
      "  [3.02960400e-03]\n",
      "  [3.21414840e-03]\n",
      "  [7.99692426e-04]]\n",
      "\n",
      " [[0.00000000e+00]\n",
      "  [0.00000000e+00]\n",
      "  [0.00000000e+00]\n",
      "  [0.00000000e+00]\n",
      "  [0.00000000e+00]\n",
      "  [0.00000000e+00]\n",
      "  [0.00000000e+00]\n",
      "  [0.00000000e+00]\n",
      "  [0.00000000e+00]\n",
      "  [0.00000000e+00]\n",
      "  [9.22722030e-05]\n",
      "  [0.00000000e+00]\n",
      "  [1.52249135e-03]\n",
      "  [3.75240292e-03]\n",
      "  [3.41407151e-03]\n",
      "  [3.38331411e-03]\n",
      "  [3.35255671e-03]\n",
      "  [3.12187620e-03]\n",
      "  [3.04498270e-03]\n",
      "  [3.39869281e-03]\n",
      "  [3.30642061e-03]\n",
      "  [3.27566321e-03]\n",
      "  [3.41407151e-03]\n",
      "  [3.38331411e-03]\n",
      "  [3.76778162e-03]\n",
      "  [1.83006536e-03]\n",
      "  [2.56824298e-03]\n",
      "  [8.61207228e-04]]\n",
      "\n",
      " [[0.00000000e+00]\n",
      "  [0.00000000e+00]\n",
      "  [0.00000000e+00]\n",
      "  [0.00000000e+00]\n",
      "  [0.00000000e+00]\n",
      "  [0.00000000e+00]\n",
      "  [0.00000000e+00]\n",
      "  [0.00000000e+00]\n",
      "  [0.00000000e+00]\n",
      "  [6.15148020e-05]\n",
      "  [0.00000000e+00]\n",
      "  [0.00000000e+00]\n",
      "  [8.45828527e-04]\n",
      "  [3.62937332e-03]\n",
      "  [3.50634371e-03]\n",
      "  [3.53710111e-03]\n",
      "  [3.50634371e-03]\n",
      "  [3.69088812e-03]\n",
      "  [3.56785852e-03]\n",
      "  [3.27566321e-03]\n",
      "  [3.35255671e-03]\n",
      "  [3.42945021e-03]\n",
      "  [3.59861592e-03]\n",
      "  [3.33717801e-03]\n",
      "  [3.33717801e-03]\n",
      "  [3.21414840e-03]\n",
      "  [1.41484045e-03]\n",
      "  [0.00000000e+00]]\n",
      "\n",
      " [[0.00000000e+00]\n",
      "  [0.00000000e+00]\n",
      "  [1.53787005e-05]\n",
      "  [6.15148020e-05]\n",
      "  [9.22722030e-05]\n",
      "  [1.07650903e-04]\n",
      "  [3.07574010e-05]\n",
      "  [0.00000000e+00]\n",
      "  [0.00000000e+00]\n",
      "  [0.00000000e+00]\n",
      "  [0.00000000e+00]\n",
      "  [0.00000000e+00]\n",
      "  [3.64475202e-03]\n",
      "  [3.47558631e-03]\n",
      "  [3.33717801e-03]\n",
      "  [3.42945021e-03]\n",
      "  [3.41407151e-03]\n",
      "  [3.36793541e-03]\n",
      "  [3.41407151e-03]\n",
      "  [3.39869281e-03]\n",
      "  [3.32179931e-03]\n",
      "  [3.42945021e-03]\n",
      "  [3.52172241e-03]\n",
      "  [3.30642061e-03]\n",
      "  [3.35255671e-03]\n",
      "  [3.92156863e-03]\n",
      "  [1.18415994e-03]\n",
      "  [0.00000000e+00]]\n",
      "\n",
      " [[0.00000000e+00]\n",
      "  [4.61361015e-05]\n",
      "  [0.00000000e+00]\n",
      "  [0.00000000e+00]\n",
      "  [0.00000000e+00]\n",
      "  [0.00000000e+00]\n",
      "  [0.00000000e+00]\n",
      "  [0.00000000e+00]\n",
      "  [0.00000000e+00]\n",
      "  [9.53479431e-04]\n",
      "  [2.22991157e-03]\n",
      "  [3.13725490e-03]\n",
      "  [3.50634371e-03]\n",
      "  [3.18339100e-03]\n",
      "  [3.27566321e-03]\n",
      "  [3.39869281e-03]\n",
      "  [3.35255671e-03]\n",
      "  [3.19876970e-03]\n",
      "  [3.24490581e-03]\n",
      "  [3.35255671e-03]\n",
      "  [3.44482891e-03]\n",
      "  [3.42945021e-03]\n",
      "  [3.36793541e-03]\n",
      "  [3.30642061e-03]\n",
      "  [3.44482891e-03]\n",
      "  [3.75240292e-03]\n",
      "  [2.44521338e-03]\n",
      "  [0.00000000e+00]]\n",
      "\n",
      " [[0.00000000e+00]\n",
      "  [0.00000000e+00]\n",
      "  [0.00000000e+00]\n",
      "  [0.00000000e+00]\n",
      "  [2.76816609e-04]\n",
      "  [6.76662822e-04]\n",
      "  [1.26105344e-03]\n",
      "  [1.64552095e-03]\n",
      "  [2.90657439e-03]\n",
      "  [3.50634371e-03]\n",
      "  [3.38331411e-03]\n",
      "  [3.41407151e-03]\n",
      "  [3.33717801e-03]\n",
      "  [3.47558631e-03]\n",
      "  [3.07574010e-03]\n",
      "  [3.15263360e-03]\n",
      "  [3.24490581e-03]\n",
      "  [3.53710111e-03]\n",
      "  [3.44482891e-03]\n",
      "  [3.59861592e-03]\n",
      "  [2.70665129e-03]\n",
      "  [2.89119569e-03]\n",
      "  [3.84467512e-03]\n",
      "  [3.81391772e-03]\n",
      "  [3.58323722e-03]\n",
      "  [3.66013072e-03]\n",
      "  [3.30642061e-03]\n",
      "  [0.00000000e+00]]\n",
      "\n",
      " [[0.00000000e+00]\n",
      "  [8.76585928e-04]\n",
      "  [2.87581699e-03]\n",
      "  [3.19876970e-03]\n",
      "  [3.44482891e-03]\n",
      "  [3.39869281e-03]\n",
      "  [3.44482891e-03]\n",
      "  [3.19876970e-03]\n",
      "  [3.13725490e-03]\n",
      "  [3.29104191e-03]\n",
      "  [3.19876970e-03]\n",
      "  [3.21414840e-03]\n",
      "  [3.07574010e-03]\n",
      "  [2.44521338e-03]\n",
      "  [3.76778162e-03]\n",
      "  [2.96808920e-03]\n",
      "  [3.16801230e-03]\n",
      "  [3.42945021e-03]\n",
      "  [3.92156863e-03]\n",
      "  [3.92156863e-03]\n",
      "  [3.39869281e-03]\n",
      "  [3.59861592e-03]\n",
      "  [3.39869281e-03]\n",
      "  [3.24490581e-03]\n",
      "  [3.38331411e-03]\n",
      "  [3.56785852e-03]\n",
      "  [3.78316032e-03]\n",
      "  [0.00000000e+00]]\n",
      "\n",
      " [[4.61361015e-05]\n",
      "  [3.10649750e-03]\n",
      "  [3.50634371e-03]\n",
      "  [3.44482891e-03]\n",
      "  [3.39869281e-03]\n",
      "  [3.24490581e-03]\n",
      "  [3.24490581e-03]\n",
      "  [3.29104191e-03]\n",
      "  [3.15263360e-03]\n",
      "  [3.15263360e-03]\n",
      "  [3.15263360e-03]\n",
      "  [3.38331411e-03]\n",
      "  [3.69088812e-03]\n",
      "  [1.23029604e-03]\n",
      "  [2.30680507e-03]\n",
      "  [3.92156863e-03]\n",
      "  [3.52172241e-03]\n",
      "  [3.39869281e-03]\n",
      "  [2.89119569e-03]\n",
      "  [2.36831988e-03]\n",
      "  [2.93733180e-03]\n",
      "  [3.22952710e-03]\n",
      "  [3.13725490e-03]\n",
      "  [3.21414840e-03]\n",
      "  [3.41407151e-03]\n",
      "  [3.50634371e-03]\n",
      "  [3.46020761e-03]\n",
      "  [0.00000000e+00]]\n",
      "\n",
      " [[1.50711265e-03]\n",
      "  [3.58323722e-03]\n",
      "  [3.04498270e-03]\n",
      "  [3.22952710e-03]\n",
      "  [3.41407151e-03]\n",
      "  [3.52172241e-03]\n",
      "  [3.52172241e-03]\n",
      "  [3.59861592e-03]\n",
      "  [3.82929642e-03]\n",
      "  [3.38331411e-03]\n",
      "  [2.98346790e-03]\n",
      "  [3.30642061e-03]\n",
      "  [3.33717801e-03]\n",
      "  [3.70626682e-03]\n",
      "  [9.99615532e-04]\n",
      "  [1.12264514e-03]\n",
      "  [1.63014225e-03]\n",
      "  [1.79930796e-03]\n",
      "  [2.58362168e-03]\n",
      "  [3.36793541e-03]\n",
      "  [3.39869281e-03]\n",
      "  [3.30642061e-03]\n",
      "  [3.33717801e-03]\n",
      "  [3.42945021e-03]\n",
      "  [3.42945021e-03]\n",
      "  [3.44482891e-03]\n",
      "  [3.52172241e-03]\n",
      "  [4.45982314e-04]]\n",
      "\n",
      " [[1.15340254e-03]\n",
      "  [3.13725490e-03]\n",
      "  [3.26028451e-03]\n",
      "  [3.13725490e-03]\n",
      "  [2.96808920e-03]\n",
      "  [3.15263360e-03]\n",
      "  [3.24490581e-03]\n",
      "  [3.46020761e-03]\n",
      "  [3.32179931e-03]\n",
      "  [2.84505959e-03]\n",
      "  [3.02960400e-03]\n",
      "  [3.16801230e-03]\n",
      "  [3.04498270e-03]\n",
      "  [3.27566321e-03]\n",
      "  [3.69088812e-03]\n",
      "  [2.99884660e-03]\n",
      "  [3.49096501e-03]\n",
      "  [3.76778162e-03]\n",
      "  [3.67550942e-03]\n",
      "  [3.42945021e-03]\n",
      "  [3.35255671e-03]\n",
      "  [3.26028451e-03]\n",
      "  [3.21414840e-03]\n",
      "  [3.41407151e-03]\n",
      "  [3.38331411e-03]\n",
      "  [3.39869281e-03]\n",
      "  [3.53710111e-03]\n",
      "  [1.03037293e-03]]\n",
      "\n",
      " [[7.38177624e-04]\n",
      "  [3.12187620e-03]\n",
      "  [2.81430219e-03]\n",
      "  [2.98346790e-03]\n",
      "  [3.27566321e-03]\n",
      "  [3.02960400e-03]\n",
      "  [2.84505959e-03]\n",
      "  [2.92195309e-03]\n",
      "  [2.98346790e-03]\n",
      "  [2.95271050e-03]\n",
      "  [3.10649750e-03]\n",
      "  [3.29104191e-03]\n",
      "  [3.36793541e-03]\n",
      "  [3.39869281e-03]\n",
      "  [3.38331411e-03]\n",
      "  [3.62937332e-03]\n",
      "  [3.46020761e-03]\n",
      "  [3.32179931e-03]\n",
      "  [3.06036140e-03]\n",
      "  [3.16801230e-03]\n",
      "  [2.86043829e-03]\n",
      "  [2.78354479e-03]\n",
      "  [2.72202999e-03]\n",
      "  [2.64513649e-03]\n",
      "  [2.78354479e-03]\n",
      "  [3.15263360e-03]\n",
      "  [3.16801230e-03]\n",
      "  [1.76855056e-03]]\n",
      "\n",
      " [[0.00000000e+00]\n",
      "  [1.87620146e-03]\n",
      "  [3.36793541e-03]\n",
      "  [2.96808920e-03]\n",
      "  [2.75278739e-03]\n",
      "  [2.62975779e-03]\n",
      "  [2.81430219e-03]\n",
      "  [3.01422530e-03]\n",
      "  [3.13725490e-03]\n",
      "  [3.22952710e-03]\n",
      "  [3.27566321e-03]\n",
      "  [3.18339100e-03]\n",
      "  [3.24490581e-03]\n",
      "  [3.22952710e-03]\n",
      "  [3.07574010e-03]\n",
      "  [3.01422530e-03]\n",
      "  [2.98346790e-03]\n",
      "  [2.93733180e-03]\n",
      "  [2.99884660e-03]\n",
      "  [2.93733180e-03]\n",
      "  [3.04498270e-03]\n",
      "  [2.95271050e-03]\n",
      "  [2.70665129e-03]\n",
      "  [2.39907728e-03]\n",
      "  [2.56824298e-03]\n",
      "  [2.72202999e-03]\n",
      "  [3.22952710e-03]\n",
      "  [1.41484045e-03]]\n",
      "\n",
      " [[0.00000000e+00]\n",
      "  [0.00000000e+00]\n",
      "  [1.13802384e-03]\n",
      "  [2.90657439e-03]\n",
      "  [3.26028451e-03]\n",
      "  [2.93733180e-03]\n",
      "  [2.69127259e-03]\n",
      "  [2.64513649e-03]\n",
      "  [2.69127259e-03]\n",
      "  [2.78354479e-03]\n",
      "  [2.84505959e-03]\n",
      "  [2.89119569e-03]\n",
      "  [2.90657439e-03]\n",
      "  [2.89119569e-03]\n",
      "  [2.96808920e-03]\n",
      "  [3.04498270e-03]\n",
      "  [3.13725490e-03]\n",
      "  [3.21414840e-03]\n",
      "  [3.22952710e-03]\n",
      "  [3.22952710e-03]\n",
      "  [3.24490581e-03]\n",
      "  [2.89119569e-03]\n",
      "  [2.89119569e-03]\n",
      "  [2.98346790e-03]\n",
      "  [2.95271050e-03]\n",
      "  [3.32179931e-03]\n",
      "  [2.61437908e-03]\n",
      "  [0.00000000e+00]]\n",
      "\n",
      " [[3.07574010e-05]\n",
      "  [0.00000000e+00]\n",
      "  [0.00000000e+00]\n",
      "  [0.00000000e+00]\n",
      "  [1.01499423e-03]\n",
      "  [3.07574010e-03]\n",
      "  [3.41407151e-03]\n",
      "  [3.64475202e-03]\n",
      "  [3.67550942e-03]\n",
      "  [3.72164552e-03]\n",
      "  [3.78316032e-03]\n",
      "  [3.73702422e-03]\n",
      "  [3.75240292e-03]\n",
      "  [3.39869281e-03]\n",
      "  [3.38331411e-03]\n",
      "  [2.96808920e-03]\n",
      "  [2.93733180e-03]\n",
      "  [2.75278739e-03]\n",
      "  [2.79892349e-03]\n",
      "  [2.79892349e-03]\n",
      "  [2.78354479e-03]\n",
      "  [2.70665129e-03]\n",
      "  [2.55286428e-03]\n",
      "  [2.58362168e-03]\n",
      "  [1.52249135e-03]\n",
      "  [8.91964629e-04]\n",
      "  [0.00000000e+00]\n",
      "  [0.00000000e+00]]\n",
      "\n",
      " [[0.00000000e+00]\n",
      "  [0.00000000e+00]\n",
      "  [0.00000000e+00]\n",
      "  [0.00000000e+00]\n",
      "  [0.00000000e+00]\n",
      "  [0.00000000e+00]\n",
      "  [0.00000000e+00]\n",
      "  [6.15148020e-04]\n",
      "  [9.38100730e-04]\n",
      "  [6.76662822e-04]\n",
      "  [1.10726644e-03]\n",
      "  [6.30526720e-04]\n",
      "  [5.38254517e-04]\n",
      "  [0.00000000e+00]\n",
      "  [0.00000000e+00]\n",
      "  [0.00000000e+00]\n",
      "  [0.00000000e+00]\n",
      "  [0.00000000e+00]\n",
      "  [0.00000000e+00]\n",
      "  [0.00000000e+00]\n",
      "  [0.00000000e+00]\n",
      "  [0.00000000e+00]\n",
      "  [0.00000000e+00]\n",
      "  [0.00000000e+00]\n",
      "  [0.00000000e+00]\n",
      "  [0.00000000e+00]\n",
      "  [0.00000000e+00]\n",
      "  [0.00000000e+00]]\n",
      "\n",
      " [[0.00000000e+00]\n",
      "  [0.00000000e+00]\n",
      "  [0.00000000e+00]\n",
      "  [0.00000000e+00]\n",
      "  [0.00000000e+00]\n",
      "  [0.00000000e+00]\n",
      "  [0.00000000e+00]\n",
      "  [0.00000000e+00]\n",
      "  [0.00000000e+00]\n",
      "  [0.00000000e+00]\n",
      "  [0.00000000e+00]\n",
      "  [0.00000000e+00]\n",
      "  [0.00000000e+00]\n",
      "  [0.00000000e+00]\n",
      "  [0.00000000e+00]\n",
      "  [0.00000000e+00]\n",
      "  [0.00000000e+00]\n",
      "  [0.00000000e+00]\n",
      "  [0.00000000e+00]\n",
      "  [0.00000000e+00]\n",
      "  [0.00000000e+00]\n",
      "  [0.00000000e+00]\n",
      "  [0.00000000e+00]\n",
      "  [0.00000000e+00]\n",
      "  [0.00000000e+00]\n",
      "  [0.00000000e+00]\n",
      "  [0.00000000e+00]\n",
      "  [0.00000000e+00]]\n",
      "\n",
      " [[0.00000000e+00]\n",
      "  [0.00000000e+00]\n",
      "  [0.00000000e+00]\n",
      "  [0.00000000e+00]\n",
      "  [0.00000000e+00]\n",
      "  [0.00000000e+00]\n",
      "  [0.00000000e+00]\n",
      "  [0.00000000e+00]\n",
      "  [0.00000000e+00]\n",
      "  [0.00000000e+00]\n",
      "  [0.00000000e+00]\n",
      "  [0.00000000e+00]\n",
      "  [0.00000000e+00]\n",
      "  [0.00000000e+00]\n",
      "  [0.00000000e+00]\n",
      "  [0.00000000e+00]\n",
      "  [0.00000000e+00]\n",
      "  [0.00000000e+00]\n",
      "  [0.00000000e+00]\n",
      "  [0.00000000e+00]\n",
      "  [0.00000000e+00]\n",
      "  [0.00000000e+00]\n",
      "  [0.00000000e+00]\n",
      "  [0.00000000e+00]\n",
      "  [0.00000000e+00]\n",
      "  [0.00000000e+00]\n",
      "  [0.00000000e+00]\n",
      "  [0.00000000e+00]]]\n"
     ]
    }
   ],
   "source": [
    "print(x_train[0])"
   ]
  },
  {
   "cell_type": "code",
   "execution_count": 27,
   "id": "88fc6581",
   "metadata": {},
   "outputs": [],
   "source": [
    "from tensorflow.keras.models import Sequential\n",
    "from tensorflow.keras.layers import Dense , Conv2D , Dropout , Flatten , MaxPooling2D"
   ]
  },
  {
   "cell_type": "code",
   "execution_count": 28,
   "id": "bec97946",
   "metadata": {},
   "outputs": [],
   "source": [
    "model = Sequential()"
   ]
  },
  {
   "cell_type": "code",
   "execution_count": 30,
   "id": "306c15dd",
   "metadata": {},
   "outputs": [],
   "source": [
    "model.add(Conv2D(28,kernel_size=(3,3),input_shape=input_shape))\n",
    "model.add(MaxPooling2D(pool_size=(2,2)))\n",
    "model.add(Flatten())\n",
    "model.add(Dense(128,activation=tf.nn.relu))\n",
    "model.add(Dropout(0.1))\n",
    "model.add(Dense(10,activation=tf.nn.softmax))"
   ]
  },
  {
   "cell_type": "code",
   "execution_count": 32,
   "id": "0fece57b",
   "metadata": {},
   "outputs": [
    {
     "name": "stdout",
     "output_type": "stream",
     "text": [
      "<keras.engine.sequential.Sequential object at 0x000001BA114298E0>\n"
     ]
    }
   ],
   "source": [
    "print (model)"
   ]
  },
  {
   "cell_type": "code",
   "execution_count": 33,
   "id": "2531b6ec",
   "metadata": {
    "scrolled": true
   },
   "outputs": [
    {
     "name": "stdout",
     "output_type": "stream",
     "text": [
      "Epoch 1/6\n",
      "1875/1875 [==============================] - 24s 12ms/step - loss: 0.7236 - accuracy: 0.7422\n",
      "Epoch 2/6\n",
      "1875/1875 [==============================] - 24s 13ms/step - loss: 0.4547 - accuracy: 0.8351\n",
      "Epoch 3/6\n",
      "1875/1875 [==============================] - 21s 11ms/step - loss: 0.4017 - accuracy: 0.8538\n",
      "Epoch 4/6\n",
      "1875/1875 [==============================] - 19s 10ms/step - loss: 0.3726 - accuracy: 0.8651\n",
      "Epoch 5/6\n",
      "1875/1875 [==============================] - 20s 11ms/step - loss: 0.3536 - accuracy: 0.8714\n",
      "Epoch 6/6\n",
      "1875/1875 [==============================] - 20s 10ms/step - loss: 0.3408 - accuracy: 0.8753\n"
     ]
    },
    {
     "data": {
      "text/plain": [
       "<keras.callbacks.History at 0x1ba1163bac0>"
      ]
     },
     "execution_count": 33,
     "metadata": {},
     "output_type": "execute_result"
    }
   ],
   "source": [
    "model.compile(optimizer='adam',\n",
    "             loss='sparse_categorical_crossentropy',\n",
    "             metrics=['accuracy'])\n",
    "model.fit(x=x_train,y=y_train,epochs=6)"
   ]
  },
  {
   "cell_type": "code",
   "execution_count": 34,
   "id": "eb026ff5",
   "metadata": {},
   "outputs": [
    {
     "name": "stdout",
     "output_type": "stream",
     "text": [
      "313/313 [==============================] - 1s 4ms/step - loss: 0.3589 - accuracy: 0.8713\n"
     ]
    },
    {
     "data": {
      "text/plain": [
       "[0.3589445650577545, 0.8712999820709229]"
      ]
     },
     "execution_count": 34,
     "metadata": {},
     "output_type": "execute_result"
    }
   ],
   "source": [
    "model.evaluate(x_test,y_test)"
   ]
  },
  {
   "cell_type": "code",
   "execution_count": 38,
   "id": "46dd3547",
   "metadata": {},
   "outputs": [],
   "source": [
    "predictions=model.predict(x_test)"
   ]
  },
  {
   "cell_type": "code",
   "execution_count": 40,
   "id": "e617691a",
   "metadata": {},
   "outputs": [
    {
     "name": "stdout",
     "output_type": "stream",
     "text": [
      "[4.8706279e-06 7.1925086e-08 4.5294004e-07 6.5031720e-08 1.4356444e-06\n",
      " 5.9649670e-03 5.5936898e-06 1.1622873e-01 3.9361333e-04 8.7740028e-01]\n"
     ]
    }
   ],
   "source": [
    "print(predictions[0])"
   ]
  },
  {
   "cell_type": "code",
   "execution_count": 41,
   "id": "12f27cd8",
   "metadata": {},
   "outputs": [
    {
     "name": "stdout",
     "output_type": "stream",
     "text": [
      "9\n"
     ]
    }
   ],
   "source": [
    "print(y_test[0])"
   ]
  },
  {
   "cell_type": "code",
   "execution_count": 7,
   "id": "51ff2310",
   "metadata": {},
   "outputs": [
    {
     "ename": "NameError",
     "evalue": "name 'model' is not defined",
     "output_type": "error",
     "traceback": [
      "\u001b[1;31m---------------------------------------------------------------------------\u001b[0m",
      "\u001b[1;31mNameError\u001b[0m                                 Traceback (most recent call last)",
      "\u001b[1;32mC:\\Users\\HRITHI~1\\AppData\\Local\\Temp/ipykernel_28680/2302923214.py\u001b[0m in \u001b[0;36m<module>\u001b[1;34m\u001b[0m\n\u001b[0;32m      1\u001b[0m \u001b[0mimage_index\u001b[0m\u001b[1;33m=\u001b[0m\u001b[1;36m3\u001b[0m\u001b[1;33m\u001b[0m\u001b[1;33m\u001b[0m\u001b[0m\n\u001b[0;32m      2\u001b[0m \u001b[0mplt\u001b[0m\u001b[1;33m.\u001b[0m\u001b[0mimshow\u001b[0m\u001b[1;33m(\u001b[0m\u001b[0mx_test\u001b[0m\u001b[1;33m[\u001b[0m\u001b[0mimage_index\u001b[0m\u001b[1;33m]\u001b[0m\u001b[1;33m.\u001b[0m\u001b[0mreshape\u001b[0m\u001b[1;33m(\u001b[0m\u001b[1;36m28\u001b[0m\u001b[1;33m,\u001b[0m\u001b[1;36m28\u001b[0m\u001b[1;33m)\u001b[0m\u001b[1;33m,\u001b[0m\u001b[0mcmap\u001b[0m\u001b[1;33m=\u001b[0m\u001b[1;34m'Greys'\u001b[0m\u001b[1;33m)\u001b[0m\u001b[1;33m\u001b[0m\u001b[1;33m\u001b[0m\u001b[0m\n\u001b[1;32m----> 3\u001b[1;33m \u001b[0mpred\u001b[0m\u001b[1;33m=\u001b[0m\u001b[0mmodel\u001b[0m\u001b[1;33m.\u001b[0m\u001b[0mpredict\u001b[0m\u001b[1;33m(\u001b[0m\u001b[0mx_test\u001b[0m\u001b[1;33m[\u001b[0m\u001b[0mimage_index\u001b[0m\u001b[1;33m]\u001b[0m\u001b[1;33m.\u001b[0m\u001b[0mreshape\u001b[0m\u001b[1;33m(\u001b[0m\u001b[1;36m1\u001b[0m\u001b[1;33m,\u001b[0m\u001b[1;36m28\u001b[0m\u001b[1;33m,\u001b[0m\u001b[1;36m28\u001b[0m\u001b[1;33m,\u001b[0m\u001b[1;36m1\u001b[0m\u001b[1;33m)\u001b[0m\u001b[1;33m)\u001b[0m\u001b[1;33m\u001b[0m\u001b[1;33m\u001b[0m\u001b[0m\n\u001b[0m\u001b[0;32m      4\u001b[0m \u001b[0mprint\u001b[0m\u001b[1;33m(\u001b[0m\u001b[0mpred\u001b[0m\u001b[1;33m)\u001b[0m\u001b[1;33m\u001b[0m\u001b[1;33m\u001b[0m\u001b[0m\n",
      "\u001b[1;31mNameError\u001b[0m: name 'model' is not defined"
     ]
    },
    {
     "data": {
      "image/png": "[encoded data removed]",
      "text/plain": [
       "<Figure size 432x288 with 1 Axes>"
      ]
     },
     "metadata": {
      "needs_background": "light"
     },
     "output_type": "display_data"
    }
   ],
   "source": [
    "image_index=3\n",
    "plt.imshow(x_test[image_index].reshape(28,28),cmap='Greys')\n",
    "pred=model.predict(x_test[image_index].reshape(1,28,28,1))\n",
    "print(pred)\n"
   ]
  },
  {
   "cell_type": "code",
   "execution_count": 50,
   "id": "f0fc248b",
   "metadata": {},
   "outputs": [
    {
     "name": "stdout",
     "output_type": "stream",
     "text": [
      "1 Trouser\n",
      "Actual Object :1\n"
     ]
    }
   ],
   "source": [
    "p=pred.argmax()\n",
    "D={0:\"T-Shirt\",1:\"Trouser\",2:\"Pull Over\",3:\"Dress\",4:\"Coat\",5:\"Sandals\",6:\"shirt\",7:\"Sneaker\",8:\"Bag\",9:\"Boots\"}\n",
    "print(p,D[p])\n",
    "print(\"Actual Object :{}\".format(y_test[image_index]))"
   ]
  },
  {
   "cell_type": "code",
   "execution_count": null,
   "id": "63ffbcb3",
   "metadata": {},
   "outputs": [],
   "source": []
  }
 ],
 "metadata": {
  "kernelspec": {
   "display_name": "Python 3 (ipykernel)",
   "language": "python",
   "name": "python3"
  },
  "language_info": {
   "codemirror_mode": {
    "name": "ipython",
    "version": 3
   },
   "file_extension": ".py",
   "mimetype": "text/x-python",
   "name": "python",
   "nbconvert_exporter": "python",
   "pygments_lexer": "ipython3",
   "version": "3.9.6"
  }
 },
 "nbformat": 4,
 "nbformat_minor": 5
}
