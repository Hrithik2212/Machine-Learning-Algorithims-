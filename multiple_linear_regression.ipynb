{
 "cells": [
  {
   "cell_type": "markdown",
   "metadata": {},
   "source": [
    "# Multiple Linear Regression\n"
   ]
  },
  {
   "cell_type": "code",
   "execution_count": 1,
   "metadata": {},
   "outputs": [],
   "source": [
    "import numpy as np\n",
    "import pandas as pd\n"
   ]
  },
  {
   "cell_type": "code",
   "execution_count": 2,
   "metadata": {},
   "outputs": [
    {
     "data": {
      "text/html": [
       "<div>\n",
       "<style scoped>\n",
       "    .dataframe tbody tr th:only-of-type {\n",
       "        vertical-align: middle;\n",
       "    }\n",
       "\n",
       "    .dataframe tbody tr th {\n",
       "        vertical-align: top;\n",
       "    }\n",
       "\n",
       "    .dataframe thead th {\n",
       "        text-align: right;\n",
       "    }\n",
       "</style>\n",
       "<table border=\"1\" class=\"dataframe\">\n",
       "  <thead>\n",
       "    <tr style=\"text-align: right;\">\n",
       "      <th></th>\n",
       "      <th>Hours_studied</th>\n",
       "      <th>Hours_slept</th>\n",
       "      <th>iQ</th>\n",
       "    </tr>\n",
       "  </thead>\n",
       "  <tbody>\n",
       "    <tr>\n",
       "      <th>0</th>\n",
       "      <td>9.281335</td>\n",
       "      <td>6.720646</td>\n",
       "      <td>4.662448</td>\n",
       "    </tr>\n",
       "    <tr>\n",
       "      <th>1</th>\n",
       "      <td>1.886820</td>\n",
       "      <td>1.873964</td>\n",
       "      <td>7.900363</td>\n",
       "    </tr>\n",
       "  </tbody>\n",
       "</table>\n",
       "</div>"
      ],
      "text/plain": [
       "   Hours_studied  Hours_slept        iQ\n",
       "0       9.281335     6.720646  4.662448\n",
       "1       1.886820     1.873964  7.900363"
      ]
     },
     "execution_count": 2,
     "metadata": {},
     "output_type": "execute_result"
    }
   ],
   "source": [
    "from numpy.random import rand\n",
    "\n",
    "df  = pd.DataFrame(rand( 50 , 3)*10, columns = 'Hours_studied Hours_slept iQ '.split())\n",
    "df.head(2)\n"
   ]
  },
  {
   "cell_type": "code",
   "execution_count": 3,
   "metadata": {},
   "outputs": [
    {
     "data": {
      "text/html": [
       "<div>\n",
       "<style scoped>\n",
       "    .dataframe tbody tr th:only-of-type {\n",
       "        vertical-align: middle;\n",
       "    }\n",
       "\n",
       "    .dataframe tbody tr th {\n",
       "        vertical-align: top;\n",
       "    }\n",
       "\n",
       "    .dataframe thead th {\n",
       "        text-align: right;\n",
       "    }\n",
       "</style>\n",
       "<table border=\"1\" class=\"dataframe\">\n",
       "  <thead>\n",
       "    <tr style=\"text-align: right;\">\n",
       "      <th></th>\n",
       "      <th>Hours_studied</th>\n",
       "      <th>Hours_slept</th>\n",
       "      <th>iQ</th>\n",
       "      <th>Location</th>\n",
       "    </tr>\n",
       "  </thead>\n",
       "  <tbody>\n",
       "    <tr>\n",
       "      <th>0</th>\n",
       "      <td>9.281335</td>\n",
       "      <td>6.720646</td>\n",
       "      <td>4.662448</td>\n",
       "      <td>Bangalore</td>\n",
       "    </tr>\n",
       "    <tr>\n",
       "      <th>1</th>\n",
       "      <td>1.886820</td>\n",
       "      <td>1.873964</td>\n",
       "      <td>7.900363</td>\n",
       "      <td>Bangalore</td>\n",
       "    </tr>\n",
       "    <tr>\n",
       "      <th>2</th>\n",
       "      <td>6.877583</td>\n",
       "      <td>6.888289</td>\n",
       "      <td>7.197606</td>\n",
       "      <td>Bangalore</td>\n",
       "    </tr>\n",
       "    <tr>\n",
       "      <th>3</th>\n",
       "      <td>6.174346</td>\n",
       "      <td>2.042641</td>\n",
       "      <td>4.162124</td>\n",
       "      <td>New Delhi</td>\n",
       "    </tr>\n",
       "    <tr>\n",
       "      <th>4</th>\n",
       "      <td>6.646324</td>\n",
       "      <td>6.456488</td>\n",
       "      <td>3.390678</td>\n",
       "      <td>Bangalore</td>\n",
       "    </tr>\n",
       "  </tbody>\n",
       "</table>\n",
       "</div>"
      ],
      "text/plain": [
       "   Hours_studied  Hours_slept        iQ   Location\n",
       "0       9.281335     6.720646  4.662448  Bangalore\n",
       "1       1.886820     1.873964  7.900363  Bangalore\n",
       "2       6.877583     6.888289  7.197606  Bangalore\n",
       "3       6.174346     2.042641  4.162124  New Delhi\n",
       "4       6.646324     6.456488  3.390678  Bangalore"
      ]
     },
     "execution_count": 3,
     "metadata": {},
     "output_type": "execute_result"
    }
   ],
   "source": [
    "from random import choice\n",
    "location = []\n",
    "for i in range(50):\n",
    "    location.append(choice([\"New Delhi\" , \"Pune\" , \"Bangalore\"]))\n",
    " \n",
    "df['Location'] = location\n",
    "\n",
    "df.head()"
   ]
  },
  {
   "cell_type": "code",
   "execution_count": 4,
   "metadata": {},
   "outputs": [],
   "source": [
    "df['Marks'] = (1.73 + (3.34*df['Hours_studied'])\n",
    "                    + (2.45*df['Hours_slept'])\n",
    "                    + (1.83*df['iQ']  ))\n",
    "df['Marks'] =  df['Marks'] +np.random.rand(50)*20\n",
    "               \n",
    "df.to_csv('Students.csv',index=False)"
   ]
  },
  {
   "cell_type": "code",
   "execution_count": 5,
   "metadata": {},
   "outputs": [
    {
     "name": "stdout",
     "output_type": "stream",
     "text": [
      "[[9.281334891117924 6.720646302628573 4.662447619115748 'Bangalore']\n",
      " [1.8868198762210096 1.8739635779871568 7.900363286059272 'Bangalore']\n",
      " [6.877582543115155 6.888289056002597 7.197605686901428 'Bangalore']\n",
      " [6.174346451983286 2.0426413888301 4.162124074457219 'New Delhi']\n",
      " [6.646323807003183 6.456488345351086 3.390678179088776 'Bangalore']\n",
      " [8.74273726705323 9.69150062288081 4.67270519851634 'Bangalore']\n",
      " [5.816141767006922 1.9001135467658303 1.238762991800264 'Bangalore']\n",
      " [7.991339251391204 8.387976276041528 6.217858674417768 'Pune']\n",
      " [1.5527522720812703 2.8560942982945106 7.650392273516113 'New Delhi']\n",
      " [3.408608779587775 3.554098889718781 8.577380452307501 'Pune']\n",
      " [8.790549289436507 5.950114132095019 2.697571274849069 'Pune']\n",
      " [3.17988864263528 3.80145365370656 9.126629981042178 'New Delhi']\n",
      " [3.393272387070032 5.158494954500449 9.763807044135312 'New Delhi']\n",
      " [9.702507792621493 4.925949397026706 8.214846813752162 'Pune']\n",
      " [5.647442705792916 6.308179392976426 8.302400228510212 'Bangalore']\n",
      " [7.024667434999951 7.72636495153388 5.266341264257328 'New Delhi']\n",
      " [4.583088665555733 2.8751891054005085 9.416092192839024 'Pune']\n",
      " [8.428344898386541 7.65661511458898 5.448086946550376 'New Delhi']\n",
      " [6.838166872743984 9.866864631621404 9.55469332390868 'New Delhi']\n",
      " [8.835685964843393 0.3598497371015385 1.3545278455624266 'Bangalore']\n",
      " [7.386831033482359 9.23816711591276 9.087045135716815 'Pune']\n",
      " [3.845056204007432 5.691628113289732 0.1682413007818295 'Bangalore']\n",
      " [8.06423009645528 2.3628190497598576 1.423711777876806 'New Delhi']\n",
      " [1.9066855125442397 5.911553420782926 1.7570842741348325 'Bangalore']\n",
      " [9.208101738964388 5.076772357892276 8.289065117725938 'Bangalore']\n",
      " [5.350441750367238 2.499329683612052 4.372450272490335 'New Delhi']\n",
      " [9.50651634984158 2.083590160194828 7.798129182194378 'Bangalore']\n",
      " [4.458703082648344 9.944114998966644 9.283924377567752 'Bangalore']\n",
      " [0.8865026944462351 4.795016802311897 0.2379177014714972 'Pune']\n",
      " [7.638518128490394 8.028362160292296 6.1165754574243545 'New Delhi']\n",
      " [4.010512190190757 5.745610057244726 5.243987995738223 'New Delhi']\n",
      " [2.004052955495632 9.60162540939723 8.772932317825786 'Pune']\n",
      " [0.2467158949652748 2.1464091500319373 7.704875709027044 'Bangalore']\n",
      " [1.6594415378534388 5.508263792141266 9.616707679373215 'Pune']\n",
      " [7.213269857298061 7.721347507024198 3.5753841954491827 'Pune']\n",
      " [5.569182592743598 4.495175415494338 2.5469273190816843 'Pune']\n",
      " [4.552147320434685 7.719838512291028 0.992359075830821 'New Delhi']\n",
      " [2.263820000935799 7.790000487840368 3.453334064196341 'Bangalore']\n",
      " [9.472701570860108 1.5506043106331535 8.791632673796405 'New Delhi']\n",
      " [2.4790417473080293 7.009021280278205 3.610858944731974 'Pune']\n",
      " [6.331905621840253 7.178518612571171 0.4930292359390931 'Pune']\n",
      " [5.401294924158453 0.0191504193636582 7.73571499622356 'New Delhi']\n",
      " [2.4698928564265445 3.2942950372149813 3.669586053136026 'New Delhi']\n",
      " [8.682364202273279 7.59770514044749 2.7569573835939254 'Pune']\n",
      " [8.86762523231235 7.283836267201647 9.992105995632455 'Bangalore']\n",
      " [6.96905184198004 2.957521904533167 9.66344947253924 'Pune']\n",
      " [4.479867594709244 1.1445302325269124 6.567508775222292 'New Delhi']\n",
      " [7.609188567593208 9.63227214183833 9.828517543304716 'Pune']\n",
      " [0.4968853119992111 5.078011679410366 5.543668273724648 'New Delhi']\n",
      " [7.84994319103514 5.387500075539738 5.1029539839012905 'Pune']]\n"
     ]
    }
   ],
   "source": [
    "dataset = pd.read_csv('Students.csv')\n",
    "X = dataset.iloc[:, :-1].values\n",
    "y = dataset.iloc[:, -1].values\n",
    "print(X)"
   ]
  },
  {
   "cell_type": "markdown",
   "metadata": {},
   "source": [
    "### Encoding categorical data\n"
   ]
  },
  {
   "cell_type": "code",
   "execution_count": 6,
   "metadata": {},
   "outputs": [
    {
     "name": "stdout",
     "output_type": "stream",
     "text": [
      "ColumnTransformer(remainder='passthrough',\n",
      "                  transformers=[('encoder', OneHotEncoder(), [3])])\n"
     ]
    }
   ],
   "source": [
    "from sklearn.compose import ColumnTransformer\n",
    "from sklearn.preprocessing import OneHotEncoder\n",
    "ct = ColumnTransformer(transformers=[('encoder', OneHotEncoder(), [3])],  remainder='passthrough')\n",
    "print(ct)\n",
    "\n",
    "X = np.array(ct.fit_transform(X))"
   ]
  },
  {
   "cell_type": "code",
   "execution_count": 7,
   "metadata": {},
   "outputs": [
    {
     "data": {
      "text/plain": [
       "array([17.45117362, 42.82549919, 56.30582802, 46.34361878, 59.57885232,\n",
       "       76.31381739, 68.98298557, 61.07839108, 51.41256684, 53.21242364])"
      ]
     },
     "execution_count": 7,
     "metadata": {},
     "output_type": "execute_result"
    }
   ],
   "source": [
    "#Splitting the dataset into the Training set and Test set\n",
    "from sklearn.model_selection import train_test_split\n",
    "X_train, X_test, y_train , y_test = train_test_split(X, y, test_size = 0.2, random_state = 0)\n",
    "y_test\n"
   ]
  },
  {
   "cell_type": "markdown",
   "metadata": {},
   "source": [
    "### Training the Multiple Linear Regression model on the Training set\n"
   ]
  },
  {
   "cell_type": "code",
   "execution_count": 8,
   "metadata": {},
   "outputs": [
    {
     "data": {
      "text/plain": [
       "LinearRegression()"
      ]
     },
     "execution_count": 8,
     "metadata": {},
     "output_type": "execute_result"
    }
   ],
   "source": [
    "from sklearn.linear_model import LinearRegression\n",
    "regressor = LinearRegression()\n",
    "regressor.fit(X_train, y_train)"
   ]
  },
  {
   "cell_type": "markdown",
   "metadata": {},
   "source": [
    "### Predicting the Test set results\n"
   ]
  },
  {
   "cell_type": "code",
   "execution_count": 9,
   "metadata": {},
   "outputs": [
    {
     "name": "stdout",
     "output_type": "stream",
     "text": [
      "\n",
      "\n",
      "\n",
      "Predicted  Actual\n",
      "[[30.74 17.45]\n",
      " [48.37 42.83]\n",
      " [58.57 56.31]\n",
      " [44.04 46.34]\n",
      " [64.33 59.58]\n",
      " [67.67 76.31]\n",
      " [60.05 68.98]\n",
      " [57.76 61.08]\n",
      " [46.18 51.41]\n",
      " [56.67 53.21]]\n"
     ]
    }
   ],
   "source": [
    "y_pred = regressor.predict(X_test)\n",
    "\n",
    "np.set_printoptions(precision=2)\n",
    "print(\"\\n\\n\\nPredicted  Actual\")\n",
    "print(np.concatenate((y_pred.reshape(len(y_pred),1), y_test.reshape(len(y_test),1)),1))"
   ]
  },
  {
   "cell_type": "code",
   "execution_count": 10,
   "metadata": {},
   "outputs": [
    {
     "name": "stdout",
     "output_type": "stream",
     "text": [
      "[[0.0 0.0 1.0 0.8865026944462351 4.795016802311897 0.2379177014714972\n",
      "  30.74491420901265 17.451173616933495]\n",
      " [0.0 1.0 0.0 3.17988864263528 3.80145365370656 9.126629981042178\n",
      "  48.373586370603284 42.825499190205136]\n",
      " [0.0 0.0 1.0 8.790549289436507 5.950114132095019 2.697571274849069\n",
      "  58.5686155484297 56.30582801890595]\n",
      " [0.0 1.0 0.0 5.401294924158453 0.0191504193636582 7.73571499622356\n",
      "  44.04421947122367 46.34361877558764]\n",
      " [1.0 0.0 0.0 6.877582543115155 6.888289056002597 7.197605686901428\n",
      "  64.32528800554742 59.57885231672586]\n",
      " [1.0 0.0 0.0 4.458703082648344 9.944114998966644 9.283924377567752\n",
      "  67.67457172509341 76.31381738765282]\n",
      " [0.0 1.0 0.0 9.472701570860108 1.5506043106331535 8.791632673796405\n",
      "  60.048045056478706 68.98298557128278]\n",
      " [0.0 0.0 1.0 2.004052955495632 9.60162540939723 8.772932317825786\n",
      "  57.757533420219765 61.07839108110265]\n",
      " [0.0 1.0 0.0 8.06423009645528 2.3628190497598576 1.423711777876806\n",
      "  46.175719368390396 51.41256684199333]\n",
      " [1.0 0.0 0.0 6.646323807003183 6.456488345351086 3.390678179088776\n",
      "  56.67477349730701 53.21242364443397]]\n"
     ]
    }
   ],
   "source": [
    "np.set_printoptions(precision=2)\n",
    "print(np.concatenate((X_test ,y_pred.reshape(len(y_pred),1) ,y_test.reshape(len(y_test),1)) ,1))"
   ]
  },
  {
   "cell_type": "code",
   "execution_count": 11,
   "metadata": {},
   "outputs": [
    {
     "name": "stdout",
     "output_type": "stream",
     "text": [
      "[ 1.37 -1.03 -0.34  2.71  2.15  1.6 ]\n",
      "18.01539230159927\n"
     ]
    }
   ],
   "source": [
    "print(regressor.coef_)\n",
    "print(regressor.intercept_)"
   ]
  }
 ],
 "metadata": {
  "interpreter": {
   "hash": "8040ec2ad0cff8d58f013f52648f683bec6c7eaf791b6d05a489d1a84c1a212f"
  },
  "kernelspec": {
   "display_name": "Python 3.9.6 64-bit",
   "language": "python",
   "name": "python3"
  },
  "language_info": {
   "codemirror_mode": {
    "name": "ipython",
    "version": 3
   },
   "file_extension": ".py",
   "mimetype": "text/x-python",
   "name": "python",
   "nbconvert_exporter": "python",
   "pygments_lexer": "ipython3",
   "version": "3.9.6"
  },
  "orig_nbformat": 4
 },
 "nbformat": 4,
 "nbformat_minor": 2
}
